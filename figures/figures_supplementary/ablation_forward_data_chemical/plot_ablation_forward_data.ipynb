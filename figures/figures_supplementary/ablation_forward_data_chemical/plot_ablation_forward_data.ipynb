{
 "cells": [
  {
   "cell_type": "code",
   "execution_count": 23,
   "metadata": {},
   "outputs": [],
   "source": [
    "'''\n",
    "Here, we plot PDGrapher performance as a function of the forward data (ablating forward data and seeing whether it stays moreless consistent)\n",
    "Random splitting. Chemical and Genetic datasets\n",
    "'''\n",
    "import pandas as pd\n",
    "import seaborn as sns\n",
    "import matplotlib.pyplot as plt\n",
    "import os.path as osp\n",
    "from glob import glob\n",
    "import sys\n",
    "sys.path.append('../../')\n",
    "from constants import *\n",
    "import os\n",
    "import numpy as np\n",
    "from scipy import stats\n",
    "\n",
    "\n",
    "outdir = 'processed'\n",
    "os.makedirs(outdir, exist_ok = True)\n",
    "performance = {}\n",
    "\n",
    "def add_to_performance(df, cell_line, method_name, performance):\n",
    "    # Populate the dictionary\n",
    "    for index, row in df.iterrows():\n",
    "        metric = row['Metric']\n",
    "        if metric == 'ranking score':\n",
    "            metric = 'rankings'\n",
    "        if cell_line not in performance:\n",
    "            performance[cell_line] = {}\n",
    "            \n",
    "        if metric not in performance[cell_line]:\n",
    "            performance[cell_line][metric] = {method_name: []}\n",
    "\n",
    "        values = [row['Fold 1'], row['Fold 2'], row['Fold 3'], row['Fold 4'], row['Fold 5']]\n",
    "        performance[cell_line][metric][method_name] = values\n",
    "    return performance"
   ]
  },
  {
   "cell_type": "code",
   "execution_count": 24,
   "metadata": {},
   "outputs": [],
   "source": [
    "performance = {}\n",
    "for cell_line in ['A549', 'BT20', 'MCF7', 'MDAMB231', 'PC3', 'VCAP']:\n",
    "\n",
    "    #Loads with/without forward data\n",
    "    df_no_forward = pd.read_csv('../../../results_metrics_aggregated_bme/no_forward/v2/chemical/{}_drugpred_no_forward_best.csv'.format(cell_line))\n",
    "    df_original = pd.read_csv('../../../results_metrics_aggregated_bme/perturbagen_pred/v2/PDGrapher/chemical/random/{}_drugpred_within_best.csv'.format(cell_line))\n",
    "\n",
    "    #Selects only test\n",
    "    df_no_forward = df_no_forward[df_no_forward['Set'] == 'Test']\n",
    "    df_original = df_original[df_original['Set'] == 'Test']\n",
    "\n",
    "\n",
    "    performance = add_to_performance(df_no_forward, cell_line, 'PDGrapher - No disease intervention data', performance)\n",
    "    performance = add_to_performance(df_original, cell_line, 'PDGrapher', performance)\n",
    "   "
   ]
  },
  {
   "cell_type": "code",
   "execution_count": 25,
   "metadata": {},
   "outputs": [
    {
     "data": {
      "text/plain": [
       "dict_keys(['recall@1', 'recall@10', 'recall@100', 'recall@1000', 'percentage of samples with partially accurate predictions', 'rankings', 'ranking score - DCG'])"
      ]
     },
     "execution_count": 25,
     "metadata": {},
     "output_type": "execute_result"
    }
   ],
   "source": [
    "performance['A549'].keys()"
   ]
  },
  {
   "cell_type": "code",
   "execution_count": 26,
   "metadata": {},
   "outputs": [
    {
     "data": {
      "text/plain": [
       "dict_keys(['PDGrapher - No disease intervention data', 'PDGrapher'])"
      ]
     },
     "execution_count": 26,
     "metadata": {},
     "output_type": "execute_result"
    }
   ],
   "source": [
    "performance['A549']['recall@1'].keys()"
   ]
  },
  {
   "cell_type": "code",
   "execution_count": 27,
   "metadata": {},
   "outputs": [],
   "source": [
    "cell_line_to_cancer_type = {\n",
    "    'A549': 'Lung-A549',\n",
    "    'A375': 'Skin-A375',\n",
    "    'BT20': 'Breast-BT20',\n",
    "    'HELA': 'Cervix-HELA',\n",
    "    'HT29': 'Colon-HT29',\n",
    "    'MCF7': 'Breast-MCF7',\n",
    "    'MDAMB231': 'Breast-MDAMB231',\n",
    "    'PC3': 'Prostate-PC3',\n",
    "    'VCAP': 'Prostate-VCAP'\n",
    "}"
   ]
  },
  {
   "cell_type": "markdown",
   "metadata": {},
   "source": [
    "## Panel proportion of partially accurate samples"
   ]
  },
  {
   "cell_type": "code",
   "execution_count": 28,
   "metadata": {},
   "outputs": [
    {
     "name": "stderr",
     "output_type": "stream",
     "text": [
      "/tmp/ipykernel_3094558/1523307748.py:60: FutureWarning: \n",
      "\n",
      "The `ci` parameter is deprecated. Use `errorbar=None` for the same effect.\n",
      "\n",
      "  sns.barplot(data=df_mean, x='Cell Line', y=metric, hue='Method', palette=palette, ci=None, hue_order=method_order, alpha=0.9)\n"
     ]
    },
    {
     "data": {
      "image/png": "[encoded data removed]",
      "text/plain": [
       "<Figure size 354.3x219 with 1 Axes>"
      ]
     },
     "metadata": {},
     "output_type": "display_data"
    }
   ],
   "source": [
    "import pandas as pd\n",
    "import seaborn as sns\n",
    "import matplotlib.pyplot as plt\n",
    "\n",
    "from matplotlib import font_manager\n",
    "font_dirs = ['/home/gonzag46/.fonts']\n",
    "font_files = font_manager.findSystemFonts(fontpaths=font_dirs)\n",
    "for font_file in font_files:\n",
    "    font_manager.fontManager.addfont(font_file)\n",
    "plt.rcParams['font.family'] = 'Arial'\n",
    "plt.rcParams['pdf.fonttype'] = 42  # Output Type 42 (TrueType), editable in Illustrator\n",
    "\n",
    "# Extract the data for 'rankings' into a DataFrame\n",
    "metric = 'percentage of samples with partially accurate predictions'\n",
    "data = []\n",
    "for cellline, metrics in performance.items():\n",
    "    if metric in metrics:\n",
    "        for method, values in metrics[metric].items():\n",
    "            for value in values:\n",
    "                data.append([cellline, method, value])\n",
    "\n",
    "# Create a DataFrame\n",
    "df = pd.DataFrame(data, columns=['Cell Line', 'Method', metric])\n",
    "\n",
    "# Calculate the mean 'rankings' for each cell line and method\n",
    "df_mean = df.groupby(['Cell Line', 'Method']).mean().reset_index()\n",
    "\n",
    "\n",
    "#Rename cell lines\n",
    "df['Cancer Type'] = df['Cell Line'].map(cell_line_to_cancer_type)\n",
    "df_mean['Cancer Type'] = df_mean['Cell Line'].map(cell_line_to_cancer_type)\n",
    "# Replace x-axis labels with cancer types\n",
    "df['Cell Line'] = df['Cancer Type']\n",
    "df_mean['Cell Line'] = df_mean['Cancer Type']\n",
    "\n",
    "\n",
    "\n",
    "# Order cell lines based on values for PDGrapher\n",
    "pdgrapher_means = df_mean[df_mean['Method'] == 'PDGrapher'].sort_values(by=metric)\n",
    "ordered_cell_lines = pdgrapher_means['Cell Line']\n",
    "\n",
    "# Reorder the DataFrame based on ordered cell lines\n",
    "df['Cell Line'] = pd.Categorical(df['Cell Line'], categories=ordered_cell_lines, ordered=True)\n",
    "df_mean['Cell Line'] = pd.Categorical(df_mean['Cell Line'], categories=ordered_cell_lines, ordered=True)\n",
    "\n",
    "# Define a color palette that matches the existing figures\n",
    "palette = {\n",
    "    'PDGrapher - No disease intervention data': '#7FC97F',\n",
    "    'PDGrapher': '#1AAEBE',\n",
    "}\n",
    "\n",
    "# Define the order of methods\n",
    "method_order = ['PDGrapher - No disease intervention data', 'PDGrapher']\n",
    "\n",
    "with sns.plotting_context(plotting_context):\n",
    "    # Initialize the plot\n",
    "    fig, ax = plt.subplots(figsize=(3.543, 2.19))\n",
    "\n",
    "    # Create a bar plot for each method\n",
    "    sns.barplot(data=df_mean, x='Cell Line', y=metric, hue='Method', palette=palette, ci=None, hue_order=method_order, alpha=0.9)\n",
    "\n",
    "    # Overlay individual data points\n",
    "    sns.stripplot(data=df, x='Cell Line', y=metric, hue='Method', palette=palette, dodge=True, jitter=True, alpha=1.0, hue_order=method_order, size=2, edgecolor=\"white\", linewidth=0.2)\n",
    "\n",
    "\n",
    "\n",
    "\n",
    "\n",
    "    # Add horizontal lines for the overall mean ranking for each method\n",
    "    for method in method_order:\n",
    "        overall_mean = df[df['Method'] == method][metric].mean()\n",
    "        plt.axhline(y=overall_mean, linestyle='--', color=palette[method], linewidth=0.5)\n",
    "\n",
    "    # Remove title\n",
    "    plt.title('')\n",
    "    plt.ylim\n",
    "\n",
    "    # Remove X-axis label\n",
    "    plt.xlabel('')\n",
    "    sns.despine()\n",
    "\n",
    "    # Adjust legend to only include the bars and place it at the top\n",
    "    handles, labels = plt.gca().get_legend_handles_labels()\n",
    "    bar_handles = handles[:len(method_order)]\n",
    "    bar_labels = labels[:len(method_order)]\n",
    "    plt.legend(bar_handles, bar_labels, bbox_to_anchor=(0.45, -0.55), loc='lower center', ncol=4, frameon=False, title=None)\n",
    "    plt.xticks(rotation=20, ha=\"right\")\n",
    "    plt.subplots_adjust(bottom = 0.32, right = 0.95, top = 0.85)\n",
    "    plt.ylabel('Accurately predicted samples (%)')\n",
    "    plt.savefig(osp.join(outdir, 'panel_partially_accurate_pred.pdf'))\n",
    "    plt.show()\n",
    "\n",
    "\n"
   ]
  },
  {
   "cell_type": "markdown",
   "metadata": {},
   "source": [
    "## Panel nDCG"
   ]
  },
  {
   "cell_type": "code",
   "execution_count": 30,
   "metadata": {},
   "outputs": [
    {
     "name": "stderr",
     "output_type": "stream",
     "text": [
      "/tmp/ipykernel_3094558/1502850828.py:47: FutureWarning: \n",
      "\n",
      "The `ci` parameter is deprecated. Use `errorbar=None` for the same effect.\n",
      "\n",
      "  sns.barplot(data=df_mean, x='Cell Line', y=metric, hue='Method', palette=palette, ci=None, hue_order=method_order, alpha=0.9)\n"
     ]
    },
    {
     "data": {
      "image/png": "[encoded data removed]",
      "text/plain": [
       "<Figure size 354.3x219 with 1 Axes>"
      ]
     },
     "metadata": {},
     "output_type": "display_data"
    }
   ],
   "source": [
    "import pandas as pd\n",
    "import seaborn as sns\n",
    "import matplotlib.pyplot as plt\n",
    "\n",
    "\n",
    "\n",
    "# Extract the data for 'rankings' into a DataFrame\n",
    "metric = 'ranking score - DCG'\n",
    "data = []\n",
    "for cellline, metrics in performance.items():\n",
    "    if metric in metrics:\n",
    "        for method, values in metrics[metric].items():\n",
    "            for value in values:\n",
    "                data.append([cellline, method, value])\n",
    "\n",
    "# Create a DataFrame\n",
    "df = pd.DataFrame(data, columns=['Cell Line', 'Method', metric])\n",
    "\n",
    "# Calculate the mean 'rankings' for each cell line and method\n",
    "df_mean = df.groupby(['Cell Line', 'Method']).mean().reset_index()\n",
    "\n",
    "\n",
    "#Rename cell lines\n",
    "df['Cancer Type'] = df['Cell Line'].map(cell_line_to_cancer_type)\n",
    "df_mean['Cancer Type'] = df_mean['Cell Line'].map(cell_line_to_cancer_type)\n",
    "# Replace x-axis labels with cancer types\n",
    "df['Cell Line'] = df['Cancer Type']\n",
    "df_mean['Cell Line'] = df_mean['Cancer Type']\n",
    "\n",
    "\n",
    "# Order cell lines based on values for PDGrapher\n",
    "pdgrapher_means = df_mean[df_mean['Method'] == 'PDGrapher'].sort_values(by=metric)\n",
    "ordered_cell_lines = pdgrapher_means['Cell Line']\n",
    "\n",
    "# Reorder the DataFrame based on ordered cell lines\n",
    "df['Cell Line'] = pd.Categorical(df['Cell Line'], categories=ordered_cell_lines, ordered=True)\n",
    "df_mean['Cell Line'] = pd.Categorical(df_mean['Cell Line'], categories=ordered_cell_lines, ordered=True)\n",
    "\n",
    "# Define the order of methods\n",
    "method_order = ['PDGrapher - No disease intervention data', 'PDGrapher']\n",
    "\n",
    "with sns.plotting_context(plotting_context):\n",
    "    # Initialize the plot\n",
    "    fig, ax = plt.subplots(figsize=(3.543, 2.19))\n",
    "\n",
    "    # Create a bar plot for each method\n",
    "    sns.barplot(data=df_mean, x='Cell Line', y=metric, hue='Method', palette=palette, ci=None, hue_order=method_order, alpha=0.9)\n",
    "\n",
    "    # Overlay individual data points\n",
    "    sns.stripplot(data=df, x='Cell Line', y=metric, hue='Method', palette=palette, dodge=True, jitter=True, alpha=1.0, hue_order=method_order, size=2, edgecolor=\"white\", linewidth=0.2)\n",
    "\n",
    "\n",
    "\n",
    "\n",
    "\n",
    "    # Add horizontal lines for the overall mean ranking for each method\n",
    "    for method in method_order:\n",
    "        overall_mean = df[df['Method'] == method][metric].mean()\n",
    "        plt.axhline(y=overall_mean, linestyle='--', color=palette[method], linewidth=0.5)\n",
    "\n",
    "    # Remove title\n",
    "    plt.title('')\n",
    "    plt.ylim\n",
    "\n",
    "    # Remove X-axis label\n",
    "    plt.xlabel('')\n",
    "    sns.despine()\n",
    "\n",
    "    # Adjust legend to only include the bars and place it at the top\n",
    "    handles, labels = plt.gca().get_legend_handles_labels()\n",
    "    bar_handles = handles[:len(method_order)]\n",
    "    bar_labels = labels[:len(method_order)]\n",
    "    plt.legend(bar_handles, bar_labels, bbox_to_anchor=(0.45, 1.2), loc='upper center', ncol=4, frameon=False, title=None)\n",
    "    plt.xticks(rotation=20, ha=\"right\")\n",
    "    plt.subplots_adjust(bottom = 0.25)\n",
    "    plt.ylabel('nDCG')\n",
    "    plt.savefig(osp.join(outdir, 'panel_ndcg.pdf'))\n",
    "    plt.show()\n",
    "\n",
    "\n"
   ]
  },
  {
   "cell_type": "markdown",
   "metadata": {},
   "source": [
    "## Aggregated recall@k"
   ]
  },
  {
   "cell_type": "code",
   "execution_count": 32,
   "metadata": {},
   "outputs": [
    {
     "data": {
      "image/png": "[encoded data removed]",
      "text/plain": [
       "<Figure size 354.3x219 with 1 Axes>"
      ]
     },
     "metadata": {},
     "output_type": "display_data"
    }
   ],
   "source": [
    "\n",
    "import pandas as pd\n",
    "import seaborn as sns\n",
    "import matplotlib.pyplot as plt\n",
    "\n",
    "# Initialize an empty list to store the data\n",
    "data = []\n",
    "\n",
    "# Iterate over the performance dictionary to extract all recall metrics\n",
    "for cellline, metrics in performance.items():\n",
    "    for metric in ['recall@1', 'recall@10', 'recall@100']:\n",
    "        if metric in metrics:\n",
    "            for method, values in metrics[metric].items():\n",
    "                for value in values:\n",
    "                    data.append([cellline, metric, method, value])\n",
    "\n",
    "# Create a DataFrame\n",
    "df = pd.DataFrame(data, columns=['Cell Line', 'Metric', 'Method', 'Value'])\n",
    "\n",
    "# Convert the 'Value' column to numeric to avoid any conversion issues\n",
    "df['Value'] = pd.to_numeric(df['Value'], errors='coerce')\n",
    "\n",
    "# Calculate the mean for each method and metric across all cell lines\n",
    "df_mean = df.groupby(['Metric', 'Method'])['Value'].mean().reset_index()\n",
    "\n",
    "\n",
    "\n",
    "# Define the order of methods\n",
    "method_order = ['PDGrapher - No disease intervention data', 'PDGrapher']\n",
    "df_mean['Metric'] = [e.capitalize() for e in df_mean['Metric']]\n",
    "\n",
    "with sns.plotting_context(plotting_context):\n",
    "    # Initialize the plot\n",
    "    fig, ax = plt.subplots(figsize=(3.543, 2.19))\n",
    "\n",
    "    # Create a line plot for each method showing the mean across all cell lines\n",
    "    sns.lineplot(data=df_mean, x='Metric', y='Value', hue='Method', palette=palette, hue_order=method_order, markers=True, dashes=False, alpha=0.9)\n",
    "\n",
    "    # Remove X-axis label\n",
    "    plt.xlabel('')\n",
    "\n",
    "    sns.despine()\n",
    "\n",
    "    # Adjust legend to place it at the top\n",
    "    handles, labels = plt.gca().get_legend_handles_labels()\n",
    "    line_handles =  handles[:len(method_order)]\n",
    "    line_labels = labels[:len(method_order)]\n",
    "    plt.legend(line_handles, line_labels, bbox_to_anchor=(0.35, 1), loc='upper center', ncol=1, frameon=False, title=None)\n",
    "    # plt.subplots_adjust(top=0.9)\n",
    "    plt.subplots_adjust(right=0.95)\n",
    "    # plt.xticks(rotation=20, ha=\"right\")\n",
    "    plt.ylabel('Recall across cell lines')\n",
    "    plt.savefig(osp.join(outdir, 'panel_aggregated_mean_recall_metrics.pdf'))\n",
    "    plt.show()\n"
   ]
  },
  {
   "cell_type": "code",
   "execution_count": null,
   "metadata": {},
   "outputs": [],
   "source": []
  }
 ],
 "metadata": {
  "kernelspec": {
   "display_name": "Python 3",
   "language": "python",
   "name": "python3"
  },
  "language_info": {
   "codemirror_mode": {
    "name": "ipython",
    "version": 3
   },
   "file_extension": ".py",
   "mimetype": "text/x-python",
   "name": "python",
   "nbconvert_exporter": "python",
   "pygments_lexer": "ipython3",
   "version": "3.8.19"
  }
 },
 "nbformat": 4,
 "nbformat_minor": 2
}
